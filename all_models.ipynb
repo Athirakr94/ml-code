{
 "cells": [
  {
   "cell_type": "code",
   "execution_count": 3,
   "metadata": {},
   "outputs": [],
   "source": [
    "import numpy\n",
    "from sklearn.model_selection import train_test_split\n",
    "from sklearn.linear_model import LinearRegression\n",
    "import matplotlib.pyplot as plt\n",
    "import pandas as pd\n",
    "from scipy.linalg import eigh\n",
    "from sklearn.preprocessing import StandardScaler,MinMaxScaler\n",
    "from sklearn.metrics import explained_variance_score,accuracy_score\n"
   ]
  },
  {
   "cell_type": "code",
   "execution_count": 53,
   "metadata": {},
   "outputs": [
    {
     "name": "stdout",
     "output_type": "stream",
     "text": [
      "Indices of training half: [ 18, 344, 274,  13, 358, 166, 348,  46,  20, 267, 355, 148, 207, 326, 249,\n",
      "  55, 235, 282, 359, 237, 209, 188, 364, 342, 262, 363, 226, 199, 269, 329,\n",
      " 365, 217, 281, 242, 132, 154, 349, 263,  24, 311, 283,  56, 360,   6, 127,\n",
      " 150, 345, 184,  43,  62,  64, 357, 313, 176, 361, 128,  19,  96, 250, 252,\n",
      " 266, 362, 162, 337, 147, 191, 265,  39, 227, 112, 142,  38, 254, 246, 290,\n",
      " 366, 135, 110, 174, 284, 328, 276, 251,  22, 164, 203, 371, 268,  84,  52,\n",
      " 205, 104, 219, 318, 299, 109, 275, 271,   2, 220, 324, 335,  71, 321, 146,\n",
      "  12, 102,  37, 223,  35,  67, 107, 215, 193,  21,  45,  93, 280, 122, 338,\n",
      " 279, 190, 243, 367,  32,  10, 172,   1,  27,  68, 273, 159, 287,   4, 306,\n",
      "  89, 144, 309, 134, 319, 253,  61, 240, 152, 136, 123,  65, 272, 202, 165,\n",
      " 111,  92,  14,  78, 241, 116, 195, 351,  81, 105,  41, 331, 294,  76, 139,\n",
      " 103, 201, 297,  86, 238, 244, 133, 129,  72, 206, 208,  87, 177, 228, 153,\n",
      " 370, 317, 212, 257,  31, 232]\n",
      "Explained variance 0.9409118999534158\n",
      "w (2, 103)\n"
     ]
    }
   ],
   "source": [
    "df = pd.read_excel('./Residential-Building-Data-Set.xlsx', sheet_name=0, header=[0,1])\n",
    "attribute_cols = df.columns[4:-2]; \n",
    "output_cols = df.columns[-2:]\n",
    "#first 4 columns are discarded, 103 attributes and 2 output variables\n",
    "X = df[attribute_cols].to_numpy(dtype=float)\n",
    "Y = df[output_cols].to_numpy(dtype=float)\n",
    "#sanity check\n",
    "assert X.shape[1]==103, print(\"Incorrect number of attributes\")\n",
    "assert Y.shape[1]==2, print(\"Label in R2\")\n",
    "#train test split\n",
    "indices = np.arange(X.shape[0])\n",
    "X_train_raw, X_test_raw, Y_train_raw, Y_test_raw, indices_train, _ = train_test_split(X, Y, indices, test_size=0.5)\n",
    "print(\"Indices of training half: %s\"%np.array2string(indices_train, separator=', '))\n",
    "#normalization\n",
    "scaler = StandardScaler()\n",
    "X_train = scaler.fit_transform(X_train_raw)\n",
    "X_test = scaler.transform(X_test_raw)\n",
    "Y_train = scaler.fit_transform(Y_train_raw)\n",
    "Y_test = scaler.transform(Y_test_raw)\n",
    "model = LinearRegression(fit_intercept=True)\n",
    "model.fit(X_train, Y_train)\n",
    "lr_params = np.concatenate([model.coef_,model.intercept_.reshape(-1,1)], axis=1).T\n",
    "y_pred=model.predict(X_test)\n",
    "print(\"Explained variance\",explained_variance_score(y_pred,Y_test))\n",
    "print(\"w\",model.coef_.shape)\n",
    "\n",
    "\n"
   ]
  },
  {
   "cell_type": "code",
   "execution_count": 54,
   "metadata": {},
   "outputs": [
    {
     "name": "stdout",
     "output_type": "stream",
     "text": [
      "Model parameters of shape 104x2 for generative linear regression:  [[-3.76902951e-02, -3.54858041e-02],\n",
      " [ 5.70524344e-02, -3.85067824e-02],\n",
      " [-6.00430675e-02, -3.51615370e-03],\n",
      " [ 6.43439528e-02,  1.72595193e-01],\n",
      " [-8.48204336e-02,  9.78654731e-01],\n",
      " [ 1.25283072e-02, -7.74620208e-02],\n",
      " [ 5.74922248e-02,  1.70931967e-01],\n",
      " [ 9.45936796e-01, -7.76672250e-02],\n",
      " [ 5.67590334e-02, -1.90790400e-01],\n",
      " [-1.72852203e-02, -1.07239000e-01],\n",
      " [ 7.91727826e-02,  9.61127877e-03],\n",
      " [-9.50773926e-02,  2.69619597e-01],\n",
      " [ 1.51884165e-01, -2.11540621e-01],\n",
      " [-3.15441377e-02,  6.54640161e-02],\n",
      " [ 4.07151029e-01,  3.88533697e-02],\n",
      " [-4.62513352e-02,  1.60980363e-01],\n",
      " [ 6.79066190e-02, -8.72324500e-02],\n",
      " [-4.53836287e-02, -1.05938392e-02],\n",
      " [-4.75122295e-02,  1.55572538e+00],\n",
      " [-3.92311789e-01, -1.31805456e+00],\n",
      " [ 5.07497843e-02,  4.57403618e-02],\n",
      " [-3.64322122e-02, -5.65378960e-01],\n",
      " [ 1.82091571e-01,  5.15843965e-01],\n",
      " [ 1.19727254e-01,  2.71382265e-01],\n",
      " [-5.98416212e-02, -3.94637220e-01],\n",
      " [ 5.33762462e-02, -9.30385087e-02],\n",
      " [-1.14217930e-01,  2.39693157e-01],\n",
      " [-2.20215509e-02,  1.60017844e-01],\n",
      " [-6.61689229e-02, -3.56263950e-01],\n",
      " [-1.69500358e-01, -5.90301871e-01],\n",
      " [ 2.67251178e-02, -2.08009599e-01],\n",
      " [-2.55785704e-01, -1.47403464e-01],\n",
      " [ 9.40622725e-02, -1.08843977e-01],\n",
      " [-1.36512291e-01,  6.72388993e-01],\n",
      " [-1.48024463e-01, -1.19460225e-02],\n",
      " [-8.76148175e-02, -2.42131162e-01],\n",
      " [ 5.45935982e-02,  2.20947158e-01],\n",
      " [-1.21851059e-01,  9.10181031e-02],\n",
      " [ 2.11326163e-02,  3.23041774e-01],\n",
      " [-9.66433790e-02,  4.44137722e-01],\n",
      " [ 2.43476033e-03, -1.07873376e-01],\n",
      " [ 3.72746136e-01,  1.53821886e-01],\n",
      " [ 1.13888569e-02,  1.31240986e-01],\n",
      " [ 1.11967886e-01, -4.50625373e-01],\n",
      " [ 1.20843967e-01,  3.49038830e-01],\n",
      " [ 3.48458767e-01, -1.45502169e-01],\n",
      " [-6.95624808e-02,  2.15315521e-02],\n",
      " [-1.32701147e-01, -3.95719387e-01],\n",
      " [ 5.24110273e-02, -2.96976149e-01],\n",
      " [ 7.20245177e-02, -1.62936984e-01],\n",
      " [ 2.05287009e-01, -3.58575262e-01],\n",
      " [-8.64166087e-02, -2.00232340e-01],\n",
      " [ 7.99296498e-02, -6.62422366e-02],\n",
      " [ 2.56904401e-02,  1.84889536e-01],\n",
      " [-5.93475252e-02, -3.13182820e-01],\n",
      " [-4.11872128e-02,  2.02991771e-01],\n",
      " [-8.66130562e-02, -7.44106295e-02],\n",
      " [ 4.99418192e-02,  7.98084550e-02],\n",
      " [ 1.23975718e-01, -4.82624779e-01],\n",
      " [ 2.29322499e-01,  1.38031617e-01],\n",
      " [-1.35229420e-01,  1.01028007e-01],\n",
      " [-5.96115217e-02,  1.15974598e-01],\n",
      " [ 4.85231979e-02, -4.35551962e-01],\n",
      " [-2.52849124e-02,  2.84614988e-01],\n",
      " [-2.45864611e-01, -8.37379284e-02],\n",
      " [ 7.91907199e-02,  1.30545174e-01],\n",
      " [ 6.55376166e-02, -2.78888039e-01],\n",
      " [ 6.95094652e-02, -4.22587102e-01],\n",
      " [-1.06384989e-01,  3.26081812e-01],\n",
      " [-1.60423487e-01,  1.07974425e-01],\n",
      " [-7.06661176e-02, -6.95646967e-01],\n",
      " [-5.59173119e-01, -4.53074795e-01],\n",
      " [-7.91183952e-03,  8.03381242e-02],\n",
      " [ 6.76801102e-02, -4.74294964e-02],\n",
      " [ 1.79954767e-02,  1.24655506e-02],\n",
      " [ 9.83867049e-03,  3.45476739e-01],\n",
      " [ 1.44782242e-01,  6.02458821e-01],\n",
      " [ 1.15367215e-01,  2.45513750e-01],\n",
      " [-1.26686641e-01,  3.28233765e-01],\n",
      " [ 2.06134632e-01,  9.86469537e-03],\n",
      " [ 1.83864325e-01,  1.11236423e-01],\n",
      " [-1.22205131e-01,  8.33663072e-01],\n",
      " [ 1.36467824e-02,  2.27045225e-01],\n",
      " [-9.02088732e-02,  8.92081853e-01],\n",
      " [ 1.12058832e-02, -8.82750214e-02],\n",
      " [ 5.97015694e-02, -4.38575700e-01],\n",
      " [-9.65875983e-02,  6.83289647e-01],\n",
      " [ 3.41229998e-02, -6.88956212e-02],\n",
      " [-8.37307423e-03, -2.62228198e-01],\n",
      " [ 3.74609046e-02, -6.56992886e-02],\n",
      " [-3.16329902e-01,  3.92280050e-01],\n",
      " [-7.76753202e-02,  7.03868764e-01],\n",
      " [-1.10028168e-01, -1.73075654e-01],\n",
      " [-2.44502255e-02, -1.99649316e-01],\n",
      " [ 1.24812700e-01,  6.87191228e-01],\n",
      " [ 2.39096358e-02, -5.10085061e-01],\n",
      " [-1.67303960e-01,  7.78060472e-02],\n",
      " [-1.81205451e-01, -6.19895647e-01],\n",
      " [ 1.25590369e-01, -5.35487235e-02],\n",
      " [-9.54232365e-03,  1.16087623e-01],\n",
      " [-9.03391875e-02, -2.16866005e-01],\n",
      " [ 5.72346942e-02, -1.35636492e-01],\n",
      " [ 5.47184981e-01,  1.56639766e-01],\n",
      " [ 1.46281678e-16,  2.81269777e-15]]\n",
      "Number of parameters which differ from linear-regression parameters from the 5th decimal place:  0\n",
      "Explained Variance for generative linear regression:  [0.96490286, 0.90120677]\n"
     ]
    }
   ],
   "source": [
    "#generative linear regression/ linear gaussian system\n",
    "\n",
    "#compute empirical means and covariance\n",
    "#we performed data normalization, which means computing means is not required. But due to numerical issues we observe a small intercept.\n",
    "import numpy as np\n",
    "eps = 1e-8\n",
    "mu_x = np.mean(X_train, axis=0, keepdims=False)\n",
    "mu_y = np.mean(Y_train, axis=0, keepdims=False)\n",
    "Sigma = np.cov(np.concatenate([X_train-mu_x.reshape(1,-1), Y_train-mu_y.reshape(1,-1)], axis=1), rowvar=False)\n",
    "Sigma_xx = Sigma[:-2,:-2]\n",
    "#make it well conditioned (note cov is psd, this makes it pd(by making eigenvalues at least eps>0), making it symmetric is not necessary if output of standard function like np.cov)\n",
    "Sigma_xx = (Sigma_xx + Sigma_xx.T)/2 + eps*np.eye(X_train.shape[1])\n",
    "Sigma_xx_inv = np.linalg.inv(Sigma_xx)\n",
    "Sigma_xy = Sigma[:-2,-2:]\n",
    "\n",
    "#compute parameters\n",
    "w = np.dot(Sigma_xx_inv, Sigma_xy)\n",
    "w_0 = mu_y - np.dot(w.T, mu_x)\n",
    "\n",
    "#print parameters\n",
    "glr_params = np.concatenate([w,w_0.reshape(1,-1)], axis=0)\n",
    "print(\"Model parameters of shape {}x{} for generative linear regression: \".format(*glr_params.shape), np.array2string(glr_params, separator=', '))\n",
    "#observe they are very close to lr_parameters\n",
    "print(\"Number of parameters which differ from linear-regression parameters from the 5th decimal place: \", np.sum(np.abs(glr_params - lr_params) >= 1e-4))\n",
    "\n",
    "#make predictions on test set, calc explained variance\n",
    "preds = np.dot(np.concatenate([X_test, np.ones([X_test.shape[0],1])], axis=1), glr_params)\n",
    "score = explained_variance_score(Y_test, preds, multioutput='raw_values')\n",
    "print(\"Explained Variance for generative linear regression: \", np.array2string(score, separator=', '))"
   ]
  },
  {
   "cell_type": "code",
   "execution_count": 56,
   "metadata": {},
   "outputs": [
    {
     "name": "stdout",
     "output_type": "stream",
     "text": [
      "explained variance :  0.9508149602782636\n"
     ]
    }
   ],
   "source": [
    "from sklearn.linear_model import Ridge\n",
    "model=Ridge(alpha=1)\n",
    "model.fit(X_train,Y_train)\n",
    "y_pred=model.predict(X_test)\n",
    "print(\"explained variance : \",explained_variance_score(y_pred,Y_test))"
   ]
  },
  {
   "cell_type": "code",
   "execution_count": 57,
   "metadata": {},
   "outputs": [
    {
     "name": "stdout",
     "output_type": "stream",
     "text": [
      "explained variance :  0.5926298689445494\n",
      "explained variance :  0.9508149602782645\n"
     ]
    }
   ],
   "source": [
    "from sklearn.kernel_ridge import KernelRidge\n",
    "model=KernelRidge(kernel=\"rbf\",alpha=1)\n",
    "model.fit(X_train,Y_train)\n",
    "y_pred=model.predict(X_test)\n",
    "print(\"explained variance : \",explained_variance_score(y_pred,Y_test))\n",
    "model=KernelRidge(kernel=\"linear\",alpha=1)\n",
    "model.fit(X_train,Y_train)\n",
    "y_pred=model.predict(X_test)\n",
    "print(\"explained variance : \",explained_variance_score(y_pred,Y_test))"
   ]
  },
  {
   "cell_type": "code",
   "execution_count": 62,
   "metadata": {},
   "outputs": [
    {
     "name": "stdout",
     "output_type": "stream",
     "text": [
      "explained variance :  0.585975314585196\n",
      "explained variance :  0.9701531725915785\n"
     ]
    }
   ],
   "source": [
    "from sklearn.svm import SVR\n",
    "model=SVR(kernel=\"rbf\",C=1)\n",
    "model.fit(X_train,Y_train[:,0])\n",
    "y_pred=model.predict(X_test)\n",
    "print(\"explained variance : \",explained_variance_score(y_pred,Y_test[:,0]))\n",
    "model=SVR(kernel=\"linear\",C=1)\n",
    "model.fit(X_train,Y_train[:,0])\n",
    "y_pred=model.predict(X_test)\n",
    "print(\"explained variance : \",explained_variance_score(y_pred,Y_test[:,0]))"
   ]
  },
  {
   "cell_type": "code",
   "execution_count": 66,
   "metadata": {},
   "outputs": [
    {
     "name": "stdout",
     "output_type": "stream",
     "text": [
      "explained variance :  0.8727552251366025\n"
     ]
    },
    {
     "data": {
      "text/plain": [
       "[<matplotlib.lines.Line2D at 0x1df17904730>]"
      ]
     },
     "execution_count": 66,
     "metadata": {},
     "output_type": "execute_result"
    },
    {
     "data": {
      "image/png": "[encoded data removed]",
      "text/plain": [
       "<Figure size 640x480 with 1 Axes>"
      ]
     },
     "metadata": {},
     "output_type": "display_data"
    }
   ],
   "source": [
    "from sklearn.neural_network import MLPRegressor\n",
    "model=MLPRegressor(hidden_layer_sizes=(100,),activation=\"relu\",solver='adam', alpha=0.0001, batch_size='auto', learning_rate='constant', learning_rate_init=0.001, max_iter=500)\n",
    "model.fit(X_train,Y_train[:,0])\n",
    "y_pred=model.predict(X_test)\n",
    "print(\"explained variance : \",explained_variance_score(y_pred,Y_test[:,0]))\n",
    "plt.plot(model.loss_curve_)"
   ]
  },
  {
   "cell_type": "code",
   "execution_count": 7,
   "metadata": {},
   "outputs": [
    {
     "name": "stdout",
     "output_type": "stream",
     "text": [
      "(63, 310) (63, 310) (63, 1) (63, 1)\n"
     ]
    }
   ],
   "source": [
    "X=pd.read_excel(\"./LSVT_voice_rehabilitation.xlsx\",sheet_name=\"Data\").dropna()\n",
    "Y=pd.read_excel(\"./LSVT_voice_rehabilitation.xlsx\",sheet_name=\"Binary response\").dropna()\n",
    "X=X.to_numpy()\n",
    "Y=Y.to_numpy()\n",
    "scaler=MinMaxScaler()\n",
    "scaler.fit(X)\n",
    "X_transformed=scaler.transform(X)\n",
    "X_train,X_test,Y_train,Y_test=train_test_split(X,Y,test_size=0.5,random_state=49)\n",
    "print(X_train.shape,X_test.shape,Y_train.shape,Y_test.shape)"
   ]
  },
  {
   "cell_type": "code",
   "execution_count": 82,
   "metadata": {},
   "outputs": [
    {
     "name": "stdout",
     "output_type": "stream",
     "text": [
      "Accuracy:  0.7619047619047619\n",
      "Accuracy:  0.7777777777777778\n"
     ]
    },
    {
     "name": "stderr",
     "output_type": "stream",
     "text": [
      "C:\\Users\\ATHIRA\\AppData\\Roaming\\Python\\Python310\\site-packages\\sklearn\\discriminant_analysis.py:887: UserWarning: Variables are collinear\n",
      "  warnings.warn(\"Variables are collinear\")\n"
     ]
    }
   ],
   "source": [
    "#plotter from murphy https://colab.research.google.com/github/probml/pyprobml/blob/master/notebooks/book1/09/discrim_analysis_dboundaries_plot2.ipynb\n",
    "figdir = \"figures\"\n",
    "def plotter(X_train, Y_train, u, sigma, clf, mstring):\n",
    "  ngrid = 200\n",
    "  # n_samples = 30\n",
    "\n",
    "  def savefig(fname):\n",
    "      plt.savefig(os.path.join(figdir, fname))\n",
    "\n",
    "  def mvn2d(x, y, u, sigma):\n",
    "      xx, yy = np.meshgrid(x, y)\n",
    "      xy = np.c_[xx.ravel(), yy.ravel()]\n",
    "      sigma_inv = np.linalg.inv(sigma)\n",
    "      z = np.dot((xy - u), sigma_inv)\n",
    "      z = np.sum(z * (xy - u), axis=1)\n",
    "      z = np.exp(-0.5 * z)\n",
    "      z = z / (2 * np.pi * np.linalg.det(sigma) ** 0.5)\n",
    "      return z.reshape(xx.shape)\n",
    "\n",
    "  def make_grid(x):\n",
    "    points = np.vstack(x)\n",
    "    x_min, y_min = np.min(points, axis=0)\n",
    "    x_max, y_max = np.max(points, axis=0)\n",
    "    x_range = np.linspace(x_min - 1, x_max + 1, ngrid)\n",
    "    y_range = np.linspace(y_min - 1, y_max + 1, ngrid)\n",
    "    xx, yy = np.meshgrid(x_range, y_range)\n",
    "    return xx, yy, x_range, y_range\n",
    "\n",
    "  def plot_points(x):\n",
    "    c = \"bgr\"\n",
    "    m = \"xos\"\n",
    "    for i, point in enumerate(x):\n",
    "        plt.plot(point[:, 0], point[:, 1], c[i] + m[i])\n",
    "  \n",
    "  def plot_contours(xx, yy, x_range, y_range, u, sigma):\n",
    "    nclasses = len(u)\n",
    "    c = \"bgr\"\n",
    "    m = \"xos\"\n",
    "    for i in range(nclasses):\n",
    "        prob = mvn2d(x_range, y_range, u[i], sigma[i])\n",
    "        cs = plt.contour(xx, yy, prob, colors=c[i])\n",
    "\n",
    "  def plot_dboundaries(xx, yy, z, z_p):\n",
    "    plt.pcolormesh(xx, yy, z, alpha=0.1)\n",
    "    plt.jet()\n",
    "    nclasses = z_p.shape[1]\n",
    "    for j in range(nclasses):\n",
    "        plt.contour(xx, yy, z_p[:, j].reshape(ngrid, ngrid), [0.5], colors=\"k\")\n",
    "  \n",
    "  def make_one_hot(yhat):\n",
    "    yy = yhat.reshape(-1, 1)  # make 2d\n",
    "    enc = OneHotEncoder(sparse=False)\n",
    "    Y = enc.fit_transform(yy)\n",
    "    return Y\n",
    "  \n",
    "        \n",
    "  classes = [0,1,2]\n",
    "  x = []; labels = []\n",
    "  for c in classes:\n",
    "    class_indices = (Y_train == c)\n",
    "    x.append(X_train[class_indices])\n",
    "    labels.append(Y_train[class_indices])\n",
    "  xx, yy, x_range, y_range = make_grid(x)\n",
    "  X = np.vstack(x)\n",
    "  Y = np.hstack(labels)\n",
    "\n",
    "  # clf.fit(X, Y)\n",
    "  z = clf.predict(np.c_[xx.ravel(), yy.ravel()])\n",
    "  z = z.reshape(ngrid, ngrid)\n",
    "  z_p = clf.predict_proba(np.c_[xx.ravel(), yy.ravel()])\n",
    "  yhat = clf.predict(np.c_[xx.ravel(), yy.ravel()])\n",
    "  Yhat = make_one_hot(yhat)\n",
    "\n",
    "  plt.figure()\n",
    "  # plot_dboundaries(xx, yy, z, z_p)\n",
    "  plot_dboundaries(xx, yy, z, Yhat)\n",
    "  plot_points(x)\n",
    "  if u is not None:\n",
    "    plot_contours(xx, yy, x_range, y_range, u, sigma)\n",
    "  plt.title(mstring)\n",
    "  plt.axis(\"square\")\n",
    "  plt.tight_layout()\n",
    "  savefig(\"gda_2d_{}.pdf\".format(mstring))\n",
    "  plt.show()\n",
    "from sklearn.discriminant_analysis import QuadraticDiscriminantAnalysis,LinearDiscriminantAnalysis\n",
    "from sklearn.inspection import DecisionBoundaryDisplay\n",
    "model=QuadraticDiscriminantAnalysis(store_covariance=True)\n",
    "model.fit(X_train,Y_train.ravel())\n",
    "y_pred=model.predict(X_test)\n",
    "print(\"Accuracy: \",accuracy_score(y_pred,Y_test.ravel()))\n",
    "# plotter(X_train[:30],Y_train[:30], model.means_, model.covariance_ ,model, \"QDA\")\n",
    "model=LinearDiscriminantAnalysis(store_covariance=True)\n",
    "model.fit(X_train,Y_train.ravel())\n",
    "y_pred=model.predict(X_test)\n",
    "print(\"Accuracy: \",accuracy_score(y_pred,Y_test.ravel()))\n",
    "# plotter(X_train[:30],Y_train[:30], model.means_, model.covariance_ ,model, \"LDA\")\n"
   ]
  },
  {
   "cell_type": "code",
   "execution_count": 83,
   "metadata": {},
   "outputs": [
    {
     "name": "stdout",
     "output_type": "stream",
     "text": [
      "Accuracy:  0.3492063492063492\n"
     ]
    }
   ],
   "source": [
    "from sklearn.naive_bayes import GaussianNB as GNB\n",
    "model=GNB()\n",
    "model.fit(X_train,Y_train.ravel())\n",
    "y_pred=model.predict(X_test)\n",
    "print(\"Accuracy: \",accuracy_score(y_pred,Y_test.ravel()))\n"
   ]
  },
  {
   "cell_type": "code",
   "execution_count": 86,
   "metadata": {},
   "outputs": [
    {
     "name": "stdout",
     "output_type": "stream",
     "text": [
      "Accuracy:  0.7301587301587301\n"
     ]
    }
   ],
   "source": [
    "from sklearn.linear_model import LogisticRegression\n",
    "model=LogisticRegression(penalty=\"none\",max_iter=500)\n",
    "model.fit(X_train,Y_train.ravel())\n",
    "y_pred=model.predict(X_test)\n",
    "print(\"Accuracy: \",accuracy_score(y_pred,Y_test.ravel()))"
   ]
  },
  {
   "cell_type": "code",
   "execution_count": 99,
   "metadata": {},
   "outputs": [
    {
     "name": "stdout",
     "output_type": "stream",
     "text": [
      "Accuracy:  0.6825396825396826\n"
     ]
    }
   ],
   "source": [
    "from sklearn.linear_model import LogisticRegression\n",
    "model=LogisticRegression(penalty=\"l2\",max_iter=500,multi_class=\"multinomial\")\n",
    "model.fit(X_train,Y_train.ravel())\n",
    "y_pred=model.predict(X_test)\n",
    "print(\"Accuracy: \",accuracy_score(y_pred,Y_test.ravel()))"
   ]
  },
  {
   "cell_type": "code",
   "execution_count": 95,
   "metadata": {},
   "outputs": [
    {
     "name": "stdout",
     "output_type": "stream",
     "text": [
      "0.7301587301587301\n"
     ]
    },
    {
     "data": {
      "text/plain": [
       "[<matplotlib.lines.Line2D at 0x1df222a3640>]"
      ]
     },
     "execution_count": 95,
     "metadata": {},
     "output_type": "execute_result"
    },
    {
     "data": {
      "image/png": "[encoded data removed]",
      "text/plain": [
       "<Figure size 640x480 with 1 Axes>"
      ]
     },
     "metadata": {},
     "output_type": "display_data"
    }
   ],
   "source": [
    "from sklearn.neural_network import MLPClassifier\n",
    "model=MLPClassifier()\n",
    "model.fit(X_train,Y_train[:,0])\n",
    "# y_pred=model.predict(X_test)\n",
    "print(model.score(X_test,Y_test.ravel()))\n",
    "# print(\"Accuracy: \",accuracy_score(y_pred,Y_test.ravel()))\n",
    "plt.plot(model.loss_curve_)"
   ]
  },
  {
   "cell_type": "code",
   "execution_count": 102,
   "metadata": {},
   "outputs": [
    {
     "name": "stdout",
     "output_type": "stream",
     "text": [
      "0.5079365079365079\n",
      "0.5396825396825397\n",
      "0.5873015873015873\n",
      "0.6190476190476191\n"
     ]
    }
   ],
   "source": [
    "from sklearn.neighbors import KNeighborsClassifier\n",
    "model= KNeighborsClassifier(2, weights=\"distance\")\n",
    "model.fit(X_train,Y_train[:,0])\n",
    "print(model.score(X_test,Y_test.ravel()))\n",
    "model= KNeighborsClassifier(2, weights=\"uniform\")\n",
    "model.fit(X_train,Y_train[:,0])\n",
    "print(model.score(X_test,Y_test.ravel()))\n",
    "model= KNeighborsClassifier(4, weights=\"uniform\")\n",
    "model.fit(X_train,Y_train[:,0])\n",
    "print(model.score(X_test,Y_test.ravel()))\n",
    "model= KNeighborsClassifier(3, weights=\"uniform\")\n",
    "model.fit(X_train,Y_train[:,0])\n",
    "print(model.score(X_test,Y_test.ravel()))"
   ]
  },
  {
   "cell_type": "code",
   "execution_count": 8,
   "metadata": {},
   "outputs": [
    {
     "name": "stdout",
     "output_type": "stream",
     "text": [
      "0.746031746031746\n"
     ]
    },
    {
     "name": "stderr",
     "output_type": "stream",
     "text": [
      "C:\\Users\\ATHIRA\\AppData\\Roaming\\Python\\Python310\\site-packages\\sklearn\\svm\\_base.py:1225: ConvergenceWarning: Liblinear failed to converge, increase the number of iterations.\n",
      "  warnings.warn(\n"
     ]
    }
   ],
   "source": [
    "from sklearn.svm import LinearSVC as SVC\n",
    "model= SVC(C=1)\n",
    "model.fit(X_train,Y_train[:,0])\n",
    "print(model.score(X_test,Y_test.ravel()))"
   ]
  },
  {
   "cell_type": "code",
   "execution_count": 105,
   "metadata": {},
   "outputs": [
    {
     "data": {
      "text/plain": [
       "array([-1.52955942, -1.51462041, -1.60244657])"
      ]
     },
     "execution_count": 105,
     "metadata": {},
     "output_type": "execute_result"
    },
    {
     "data": {
      "image/png": "[encoded data removed]",
      "text/plain": [
       "<Figure size 640x480 with 1 Axes>"
      ]
     },
     "metadata": {},
     "output_type": "display_data"
    }
   ],
   "source": [
    "from sklearn.neighbors import KernelDensity\n",
    "import numpy as np\n",
    "rng = np.random.RandomState(42)\n",
    "X = rng.random_sample((100, 3))\n",
    "kde = KernelDensity(kernel='gaussian', bandwidth=0.5).fit(X)\n",
    "log_density = kde.score_samples(X[:3])\n",
    "plt.plot(log_density)\n",
    "log_density"
   ]
  },
  {
   "cell_type": "code",
   "execution_count": 4,
   "metadata": {},
   "outputs": [
    {
     "data": {
      "image/png": "[encoded data removed]",
      "text/plain": [
       "<Figure size 640x480 with 1 Axes>"
      ]
     },
     "metadata": {},
     "output_type": "display_data"
    }
   ],
   "source": [
    "from sklearn import datasets\n",
    "from sklearn.cluster import KMeans\n",
    "#\n",
    "# Load Sklearn IRIS dataset\n",
    "#\n",
    "iris = datasets.load_iris()\n",
    "X = iris.data\n",
    "y = iris.target\n",
    "#\n",
    "# Do the scatter plot and see that clusters are evident\n",
    "#\n",
    "plt.scatter(X[:,1], X[:,3],\n",
    "             color='white', marker='o', edgecolor='red', s=50)\n",
    "plt.grid()\n",
    "plt.tight_layout()\n",
    "plt.show()"
   ]
  },
  {
   "cell_type": "code",
   "execution_count": 5,
   "metadata": {},
   "outputs": [
    {
     "data": {
      "image/png": "[encoded data removed]",
      "text/plain": [
       "<Figure size 640x480 with 1 Axes>"
      ]
     },
     "metadata": {},
     "output_type": "display_data"
    }
   ],
   "source": [
    "kmc = KMeans(n_clusters=3, init='random', n_init=10, max_iter=300,tol=1e-04, random_state=0)\n",
    "#\n",
    "# Fit and make predictions\n",
    "#\n",
    "y_kmc = kmc.fit_predict(X)\n",
    "#\n",
    "# Create the K-means cluster plot\n",
    "#\n",
    "plt.scatter(X[y_kmc == 0, 1], X[y_kmc == 0, 3], s=50,\n",
    "            c='lightgreen', marker='s', edgecolor='black', label='Cluster 1')\n",
    "plt.scatter(X[y_kmc == 1, 1], X[y_kmc == 1, 3],\n",
    "             s=50, c='orange', marker='o', edgecolor='black', label='Cluster 2')\n",
    "plt.scatter(X[y_kmc == 2, 1], X[y_kmc == 2, 3], s=50,\n",
    "            c='blue', marker='P', edgecolor='black', label='Cluster 3')\n",
    "plt.scatter(kmc.cluster_centers_[:, 1], kmc.cluster_centers_[:, 3],\n",
    "            s=250, marker='*', c='red', edgecolor='black', label='Centroids')\n",
    "plt.legend(scatterpoints=1)\n",
    "plt.grid()\n",
    "plt.tight_layout()\n",
    "plt.show()\n"
   ]
  },
  {
   "cell_type": "code",
   "execution_count": 12,
   "metadata": {},
   "outputs": [
    {
     "ename": "ImportError",
     "evalue": "cannot import name 'GMM' from 'sklearn.mixture' (C:\\Users\\ATHIRA\\AppData\\Roaming\\Python\\Python310\\site-packages\\sklearn\\mixture\\__init__.py)",
     "output_type": "error",
     "traceback": [
      "\u001b[1;31m---------------------------------------------------------------------------\u001b[0m",
      "\u001b[1;31mImportError\u001b[0m                               Traceback (most recent call last)",
      "Cell \u001b[1;32mIn[12], line 2\u001b[0m\n\u001b[0;32m      1\u001b[0m \u001b[39mimport\u001b[39;00m \u001b[39mnumpy\u001b[39;00m \u001b[39mas\u001b[39;00m \u001b[39mnp\u001b[39;00m\n\u001b[1;32m----> 2\u001b[0m \u001b[39mfrom\u001b[39;00m \u001b[39msklearn\u001b[39;00m\u001b[39m.\u001b[39;00m\u001b[39mmixture\u001b[39;00m \u001b[39mimport\u001b[39;00m GMM\n\u001b[0;32m      3\u001b[0m \u001b[39m# from sklearn.mixture import GaussianMixture as GMM\u001b[39;00m\n\u001b[0;32m      4\u001b[0m np\u001b[39m.\u001b[39mrandom\u001b[39m.\u001b[39mseed(\u001b[39m1\u001b[39m)\n",
      "\u001b[1;31mImportError\u001b[0m: cannot import name 'GMM' from 'sklearn.mixture' (C:\\Users\\ATHIRA\\AppData\\Roaming\\Python\\Python310\\site-packages\\sklearn\\mixture\\__init__.py)"
     ]
    }
   ],
   "source": [
    "import numpy as np\n",
    "from sklearn.mixture import GMM\n",
    "# from sklearn.mixture import GaussianMixture as GMM\n",
    "np.random.seed(1)\n",
    "g = GMM(n_components=2)\n",
    "# Generate random observations with two modes centered on 0\n",
    "# and 10 to use for training.\n",
    "obs = np.concatenate((np.random.randn(100, 1),\n",
    "                      10 + np.random.randn(300, 1)))\n",
    "g.fit(obs) \n",
    "\n",
    "\n",
    "\n",
    "np.round(g.weights_, 2)\n",
    "\n",
    "np.round(g.means_, 2)\n",
    "\n",
    "\n",
    "np.round(g.covars_, 2) \n",
    "\n",
    "\n",
    "g.predict([[0], [2], [9], [10]]) \n",
    "\n",
    "np.round(g.score([[0], [2], [9], [10]]), 2)\n",
    "\n",
    "# Refit the model on new data (initial parameters remain the\n",
    "# same), this time with an even split between the two modes.\n",
    "g.fit(20 * [[0]] +  20 * [[10]]) \n",
    "\n",
    "\n",
    "\n",
    "np.round(g.weights_, 2)\n"
   ]
  },
  {
   "cell_type": "code",
   "execution_count": 14,
   "metadata": {},
   "outputs": [
    {
     "name": "stdout",
     "output_type": "stream",
     "text": [
      "[0.99244289 0.00755711]\n",
      "[6.30061232 0.54980396]\n"
     ]
    }
   ],
   "source": [
    "import numpy as np\n",
    "from sklearn.decomposition import PCA\n",
    "X = np.array([[-1, -1], [-2, -1], [-3, -2], [1, 1], [2, 1], [3, 2]])\n",
    "pca = PCA()\n",
    "pca.fit(X)\n",
    "\n",
    "print(pca.explained_variance_ratio_)\n",
    "\n",
    "print(pca.singular_values_)"
   ]
  },
  {
   "cell_type": "code",
   "execution_count": 1,
   "metadata": {},
   "outputs": [
    {
     "name": "stdout",
     "output_type": "stream",
     "text": [
      "(1000, 100) (1000,)\n"
     ]
    }
   ],
   "source": [
    "from sklearn.datasets import make_regression\n",
    "# define dataset\n",
    "X, y = make_regression(n_samples=1000, n_features=100, n_informative=10, noise=0.1, random_state=1)\n",
    "# summarize the dataset\n",
    "print(X.shape, y.shape)"
   ]
  },
  {
   "cell_type": "code",
   "execution_count": 4,
   "metadata": {},
   "outputs": [],
   "source": [
    "X_train, X_test, y_train, y_test = train_test_split(X, y, test_size=0.33, random_state=1)\n",
    "# scale data\n",
    "t = MinMaxScaler()\n",
    "t.fit(X_train)\n",
    "X_train = t.transform(X_train)\n",
    "X_test = t.transform(X_test)"
   ]
  },
  {
   "cell_type": "markdown",
   "metadata": {},
   "source": []
  },
  {
   "cell_type": "code",
   "execution_count": 10,
   "metadata": {},
   "outputs": [],
   "source": [
    "import torch\n",
    "import torchvision\n",
    "from torchvision.datasets import MNIST\n",
    "import torchvision.transforms as transform\n",
    "transformer=transform.Compose([transform.ToTensor(),transform.Normalize(0.25,0.55)])\n",
    "trainset=MNIST(root=\"./data/\",train=True,download=False,transform=transformer)\n",
    "testset=MNIST(root=\"./data/\",train=False,download=False,transform=transformer)\n"
   ]
  },
  {
   "cell_type": "code",
   "execution_count": 45,
   "metadata": {},
   "outputs": [
    {
     "name": "stdout",
     "output_type": "stream",
     "text": [
      "Mymodel(\n",
      "  (relu): ReLU()\n",
      "  (fc1): Linear(in_features=784, out_features=64, bias=True)\n",
      "  (fc2): Linear(in_features=64, out_features=10, bias=True)\n",
      ")\n"
     ]
    }
   ],
   "source": [
    "from torch.utils.data import DataLoader\n",
    "trainloader=DataLoader(trainset,batch_size=4,num_workers=4,shuffle=True)\n",
    "testloader=DataLoader(testset,batch_size=1,num_workers=4,shuffle=False)\n",
    "class Mymodel(torch.nn.Module):\n",
    "    def __init__(self):\n",
    "        super(Mymodel, self).__init__()\n",
    "        self.relu=torch.nn.ReLU()\n",
    "        self.fc1=torch.nn.Linear(784,64)\n",
    "        self.fc2=torch.nn.Linear(64,10)\n",
    "        # self.softmax=torch.nn.Softmax()\n",
    "    def forward(self,img):\n",
    "        x=torch.flatten(img,1)\n",
    "        # print(x.shape)\n",
    "        \n",
    "        x=self.fc1(x)\n",
    "        x=self.relu(x)\n",
    "        x=self.fc2(x)\n",
    "        # x=self.softmax(x)\n",
    "        return x\n",
    "model=Mymodel()\n",
    "device=\"cuda\" if torch.cuda.is_available() else \"cpu\"\n",
    "model=model.to(device)\n",
    "print(model)\n",
    "criterion=torch.nn.CrossEntropyLoss()\n",
    "optimizer=torch.optim.SGD(params=model.parameters(),lr=0.01)"
   ]
  },
  {
   "cell_type": "code",
   "execution_count": 33,
   "metadata": {},
   "outputs": [
    {
     "data": {
      "text/plain": [
       "201418"
      ]
     },
     "execution_count": 33,
     "metadata": {},
     "output_type": "execute_result"
    }
   ],
   "source": [
    "pytorch_total_params = sum(p.numel() for p in model.parameters() if p.requires_grad)\n",
    "pytorch_total_params"
   ]
  },
  {
   "cell_type": "code",
   "execution_count": 46,
   "metadata": {},
   "outputs": [
    {
     "name": "stdout",
     "output_type": "stream",
     "text": [
      "Train epoch :  15000 loss :  0.03127731382846832\n",
      "Train epoch :  15000 loss :  0.0196305550634861\n",
      "Train epoch :  15000 loss :  0.009212969802320004\n"
     ]
    }
   ],
   "source": [
    "def train(model):\n",
    "    running_loss=0\n",
    "    model.train()\n",
    "    for i,(img,label) in enumerate(trainloader):\n",
    "        img=img.to(device)\n",
    "        label=label.to(device)\n",
    "        pred=model(img)\n",
    "        # print(pred.shape,label.shape,img.shape)\n",
    "        loss=criterion(pred,label)\n",
    "        optimizer.zero_grad()\n",
    "        loss.backward()\n",
    "        optimizer.step()\n",
    "        running_loss+=loss.item()\n",
    "    \n",
    "    return model,running_loss\n",
    "def validation(model):\n",
    "    model.eval()\n",
    "    running_loss=0\n",
    "    accuracy=0\n",
    "    for i,(img,label) in enumerate(testloader):\n",
    "        img=img.to(device)\n",
    "        label=label.to(device)\n",
    "        pred=model(img)\n",
    "        loss=criterion(pred,label)\n",
    "        correct=(torch.argmax(pred)==label).sum()\n",
    "        accuracy+=correct\n",
    "        running_loss+=loss.item()\n",
    "    return model,running_loss,accuracy\n",
    "train_loss=[]\n",
    "epochs=20\n",
    "for i in range(epochs):\n",
    "    model,running_loss=train(model)\n",
    "    train_loss.append(running_loss/len(trainset))\n",
    "    print(\"Train epoch : \",i,\"loss : \",running_loss/len(trainset))\n",
    "model,loss,accuracy=validation(model)\n",
    "print(loss/len(testset),accuracy/len(testset))\n",
    "torch.save(model.state_dict,\"classifier.pth\")\n",
    "      \n",
    "    \n",
    "        "
   ]
  }
 ],
 "metadata": {
  "kernelspec": {
   "display_name": "Python 3.10.5 64-bit",
   "language": "python",
   "name": "python3"
  },
  "language_info": {
   "codemirror_mode": {
    "name": "ipython",
    "version": 3
   },
   "file_extension": ".py",
   "mimetype": "text/x-python",
   "name": "python",
   "nbconvert_exporter": "python",
   "pygments_lexer": "ipython3",
   "version": "3.10.5"
  },
  "orig_nbformat": 4,
  "vscode": {
   "interpreter": {
    "hash": "369f2c481f4da34e4445cda3fffd2e751bd1c4d706f27375911949ba6bb62e1c"
   }
  }
 },
 "nbformat": 4,
 "nbformat_minor": 2
}
